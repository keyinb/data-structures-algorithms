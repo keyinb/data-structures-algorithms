{
 "cells": [
  {
   "attachments": {},
   "cell_type": "markdown",
   "metadata": {},
   "source": [
    "## Data Structures and Algorithms Assignment 2\n",
    "## Cian Belton 19321726 \n",
    "## George Dagg "
   ]
  },
  {
   "attachments": {},
   "cell_type": "markdown",
   "metadata": {},
   "source": [
    "### Imports for this notebook:"
   ]
  },
  {
   "cell_type": "code",
   "execution_count": 3,
   "metadata": {},
   "outputs": [],
   "source": [
    "import networkx as net\n",
    "import matplotlib.pyplot as plt"
   ]
  },
  {
   "attachments": {},
   "cell_type": "markdown",
   "metadata": {},
   "source": [
    "### Task 1: Sorting Algorithm Run Time and Complexity"
   ]
  },
  {
   "cell_type": "code",
   "execution_count": null,
   "metadata": {},
   "outputs": [],
   "source": []
  },
  {
   "attachments": {},
   "cell_type": "markdown",
   "metadata": {},
   "source": [
    "### Task 2: Shortest Path (Dijkstra's) Algorithm and Graphs"
   ]
  },
  {
   "attachments": {},
   "cell_type": "markdown",
   "metadata": {},
   "source": [
    "The following image is the step through of Dijkstraâs algorithm for the provided graph to go from vertex A to vertex G.\n",
    "The key is as follows:\n",
    "- Each vertex that has been visited is added to 'Visited:' with the most recent addition the current vertex.\n",
    "- The lowest total distance currently for each node is underlined in red beside each node.\n",
    "- The best path known so far to each node is highlighted in yellow.\n",
    "- Note for the sake of brevity I did not include any nodes that were at infinity, so any nodes not included in the first 4 images are at infinity."
   ]
  },
  {
   "attachments": {},
   "cell_type": "markdown",
   "metadata": {},
   "source": [
    "<img src=\"dijkstra_by_hand.jpg\">\n"
   ]
  },
  {
   "attachments": {},
   "cell_type": "markdown",
   "metadata": {},
   "source": [
    "#### Discussion of results:\n",
    "From the image above it is clear that there were many changes for the shortest paths in this weighted graph. This can be easily seen in the change of where the highlighted lines are. G for example had 3 different weights depending on the stage of the algorithm: 29, 26 and 25."
   ]
  },
  {
   "attachments": {},
   "cell_type": "markdown",
   "metadata": {},
   "source": [
    "### Verification of results with code"
   ]
  },
  {
   "cell_type": "code",
   "execution_count": 2,
   "metadata": {},
   "outputs": [],
   "source": [
    "#create an empty weighted graph\n",
    "G = net.Graph()\n",
    "\n",
    "#adding nodes to the graph\n",
    "G.add_nodes_from(['A', 'B', 'C', 'D', 'E', 'F'])\n",
    "\n",
    "#add weighted edges\n",
    "G.add_edge('A', 'B', weight=5)\n",
    "G.add_edge('A', 'H', weight=8)\n",
    "G.add_edge('A', 'E', weight=9)\n",
    "G.add_edge('B', 'H', weight=4)\n",
    "G.add_edge('B', 'C', weight=12)\n",
    "G.add_edge('B', 'D', weight=15)\n",
    "G.add_edge('C', 'D', weight=3)\n",
    "G.add_edge('C', 'G', weight=11)\n",
    "G.add_edge('D', 'G', weight=9)\n",
    "G.add_edge('C', 'F', weight=1)\n",
    "G.add_edge('F', 'G', weight=13)\n",
    "G.add_edge('E', 'F', weight=4)\n",
    "G.add_edge('E', 'G', weight=20)\n",
    "G.add_edge('E', 'H', weight=5)\n",
    "G.add_edge('C', 'H', weight=7)\n",
    "G.add_edge('H', 'F', weight=6)"
   ]
  },
  {
   "attachments": {},
   "cell_type": "markdown",
   "metadata": {},
   "source": [
    "### Task 3: Minimum Spanning Tree (MST) using Prim's Algorithm\n"
   ]
  },
  {
   "cell_type": "code",
   "execution_count": null,
   "metadata": {},
   "outputs": [],
   "source": []
  }
 ],
 "metadata": {
  "kernelspec": {
   "display_name": "comp30830_t",
   "language": "python",
   "name": "python3"
  },
  "language_info": {
   "codemirror_mode": {
    "name": "ipython",
    "version": 3
   },
   "file_extension": ".py",
   "mimetype": "text/x-python",
   "name": "python",
   "nbconvert_exporter": "python",
   "pygments_lexer": "ipython3",
   "version": "3.9.16"
  },
  "orig_nbformat": 4
 },
 "nbformat": 4,
 "nbformat_minor": 2
}

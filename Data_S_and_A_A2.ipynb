{
 "cells": [
  {
   "attachments": {},
   "cell_type": "markdown",
   "metadata": {},
   "source": [
    "## Data Structures and Algorithms Assignment 2\n",
    "## Cian Belton 19321726 \n",
    "## George Dagg "
   ]
  },
  {
   "attachments": {},
   "cell_type": "markdown",
   "metadata": {},
   "source": [
    "### Task 1: Sorting Algorithm Run Time and Complexity"
   ]
  },
  {
   "cell_type": "code",
   "execution_count": null,
   "metadata": {},
   "outputs": [],
   "source": []
  },
  {
   "attachments": {},
   "cell_type": "markdown",
   "metadata": {},
   "source": [
    "### Task 2: Shortest Path (Dijkstra's) Algorithm and Graphs"
   ]
  },
  {
   "attachments": {},
   "cell_type": "markdown",
   "metadata": {},
   "source": [
    "The following image is the step through of Dijkstraâs algorithm for the provided graph to go from vertex A to vertex G.\n",
    "The key is as follows:\n",
    "- Each vertex that has been visited is added to 'Visited:' with the most recent addition the current vertex.\n",
    "- The lowest total distance currently for each node is underlined in red beside each node.\n",
    "- The best path known so far to each node is highlighted in yellow.\n",
    "- Note for the sake of brevity I did not include any nodes that were at infinity, so any nodes not included in the first 4 images are at infinity."
   ]
  },
  {
   "attachments": {},
   "cell_type": "markdown",
   "metadata": {},
   "source": [
    "<img src=\"dijkstra_by_hand.jpg\">\n"
   ]
  },
  {
   "cell_type": "code",
   "execution_count": null,
   "metadata": {},
   "outputs": [],
   "source": []
  },
  {
   "attachments": {},
   "cell_type": "markdown",
   "metadata": {},
   "source": [
    "### Task 3: Minimum Spanning Tree (MST) using Prim's Algorithm\n"
   ]
  },
  {
   "cell_type": "code",
   "execution_count": null,
   "metadata": {},
   "outputs": [],
   "source": []
  }
 ],
 "metadata": {
  "language_info": {
   "name": "python"
  },
  "orig_nbformat": 4
 },
 "nbformat": 4,
 "nbformat_minor": 2
}
